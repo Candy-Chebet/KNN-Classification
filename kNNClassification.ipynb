{
  "nbformat": 4,
  "nbformat_minor": 0,
  "metadata": {
    "colab": {
      "provenance": []
    },
    "kernelspec": {
      "name": "python3",
      "display_name": "Python 3"
    },
    "language_info": {
      "name": "python"
    }
  },
  "cells": [
    {
      "cell_type": "code",
      "execution_count": 1,
      "metadata": {
        "id": "_Am8VJA_4Bva"
      },
      "outputs": [],
      "source": [
        "from google.colab import drive\n"
      ]
    },
    {
      "cell_type": "code",
      "source": [
        "drive.mount('/content/drive')"
      ],
      "metadata": {
        "colab": {
          "base_uri": "https://localhost:8080/"
        },
        "id": "6ne46WGG4dp_",
        "outputId": "92f39c17-68fa-4da8-ccec-fd701066c9ed"
      },
      "execution_count": 2,
      "outputs": [
        {
          "output_type": "stream",
          "name": "stdout",
          "text": [
            "Mounted at /content/drive\n"
          ]
        }
      ]
    },
    {
      "cell_type": "code",
      "source": [
        "import pandas as pd\n",
        "import numpy as np\n",
        "from sklearn.model_selection import train_test_split\n",
        "from sklearn.metrics import accuracy_score, confusion_matrix\n",
        "\n",
        "\n"
      ],
      "metadata": {
        "id": "O7ixKisC5hKZ"
      },
      "execution_count": 12,
      "outputs": []
    },
    {
      "cell_type": "code",
      "source": [
        "# Step 1: Load and Normalize the Dataset\n",
        "# Load the dataset\n",
        "file_path = '/content/drive/MyDrive/Colab Notebooks/csv files/wdbc.data.mb.csv'\n",
        "data = pd.read_csv(file_path, header=None)"
      ],
      "metadata": {
        "id": "zi43PCu_52Sm"
      },
      "execution_count": 4,
      "outputs": []
    },
    {
      "cell_type": "code",
      "source": [
        "# Separate features and labels\n",
        "X = data.iloc[:, :-1].values\n",
        "y = data.iloc[:, -1].values\n",
        "\n",
        "# Normalize the feature data\n",
        "X_normalized = (X - X.mean(axis=0)) / X.std(axis=0)\n"
      ],
      "metadata": {
        "id": "-ZUb7bO06bqB"
      },
      "execution_count": 13,
      "outputs": []
    },
    {
      "cell_type": "code",
      "source": [
        "# Step 2: Split the dataset into training (70%) and testing (30%) sets\n",
        "X_train, X_test, y_train, y_test = train_test_split(X_normalized, y, test_size=0.3, random_state=42)\n"
      ],
      "metadata": {
        "id": "RyEn2i8w6l9J"
      },
      "execution_count": 15,
      "outputs": []
    },
    {
      "cell_type": "code",
      "source": [
        "#Implement the distance calculation and class assignment functions for kNN:\n",
        "def euclidean_distance(x1, x2):\n",
        "    return np.sqrt(np.sum((x1 - x2) ** 2))\n",
        "\n",
        "def kNN_predict(X_train, y_train, x_test, k):\n",
        "    distances = []\n",
        "    for i in range(len(X_train)):\n",
        "        dist = euclidean_distance(x_test, X_train[i])\n",
        "        distances.append((y_train[i], dist))\n",
        "\n",
        "    # Sort by distance and get the k nearest neighbors\n",
        "    distances.sort(key=lambda x: x[1])\n",
        "    neighbors = [x[0] for x in distances[:k]]\n",
        "\n",
        "    # Count the class occurrences in the neighbors\n",
        "    counts = np.bincount(neighbors)\n",
        "\n",
        "    # Return the class with the highest count\n",
        "    return np.argmax(counts)\n"
      ],
      "metadata": {
        "id": "TSBE3LXgAr0-"
      },
      "execution_count": 16,
      "outputs": []
    },
    {
      "cell_type": "code",
      "source": [
        "# Replace -1 with 0 in the class labels\n",
        "y_train = np.where(y_train == -1, 0, y_train)\n",
        "y_test = np.where(y_test == -1, 0, y_test)\n",
        "\n",
        "# Test kNN classifier for different values of k (e.g., 1, 3, 5, 7, 9):\n",
        "k_values = [1, 3, 5, 7, 9]\n",
        "\n",
        "for k in k_values:\n",
        "    y_pred = [kNN_predict(X_train, y_train, x_test, k) for x_test in X_test]\n",
        "    accuracy = accuracy_score(y_test, y_pred)\n",
        "    confusion = confusion_matrix(y_test, y_pred)\n",
        "\n",
        "    print(f\"Results for k = {k}:\")\n",
        "    print(f\"Accuracy: {accuracy}\")\n",
        "    print(\"Confusion Matrix:\")\n",
        "    print(confusion)\n",
        "    print(\"=\"*30)\n"
      ],
      "metadata": {
        "colab": {
          "base_uri": "https://localhost:8080/"
        },
        "id": "qNIoNrLc64g4",
        "outputId": "51b1ea66-43e9-4339-c79d-deb4adc4dfe8"
      },
      "execution_count": 30,
      "outputs": [
        {
          "output_type": "stream",
          "name": "stdout",
          "text": [
            "Results for k = 1:\n",
            "Accuracy: 0.9565217391304348\n",
            "Confusion Matrix:\n",
            "[[107   3]\n",
            " [  5  69]]\n",
            "==============================\n",
            "Results for k = 3:\n",
            "Accuracy: 0.9728260869565217\n",
            "Confusion Matrix:\n",
            "[[109   1]\n",
            " [  4  70]]\n",
            "==============================\n",
            "Results for k = 5:\n",
            "Accuracy: 0.9782608695652174\n",
            "Confusion Matrix:\n",
            "[[109   1]\n",
            " [  3  71]]\n",
            "==============================\n",
            "Results for k = 7:\n",
            "Accuracy: 0.9782608695652174\n",
            "Confusion Matrix:\n",
            "[[109   1]\n",
            " [  3  71]]\n",
            "==============================\n",
            "Results for k = 9:\n",
            "Accuracy: 0.9728260869565217\n",
            "Confusion Matrix:\n",
            "[[109   1]\n",
            " [  4  70]]\n",
            "==============================\n"
          ]
        }
      ]
    }
  ]
}